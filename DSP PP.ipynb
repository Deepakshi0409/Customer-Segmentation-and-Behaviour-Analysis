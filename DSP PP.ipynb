{
 "cells": [
  {
   "cell_type": "code",
   "execution_count": 31,
   "id": "db9c9e55-4685-4cc5-ac36-9daf08b7d48e",
   "metadata": {},
   "outputs": [],
   "source": [
    "import pandas as pd\n",
    "\n",
    "# STEP 1: Load both CSVs (make sure they're in your working directory)\n",
    "user_txns = pd.read_csv(\"User Transactions.csv\")\n",
    "user_demo = pd.read_csv(\"User Dempgraphics.csv\")\n"
   ]
  },
  {
   "cell_type": "code",
   "execution_count": 33,
   "id": "0a6dabcb-7018-43c9-9aac-ba67c2b8ba07",
   "metadata": {},
   "outputs": [
    {
     "name": "stdout",
     "output_type": "stream",
     "text": [
      "Transaction columns: Index(['User ID', 'Order ID', 'order Date', ' Order Purchase Value '], dtype='object')\n"
     ]
    }
   ],
   "source": [
    "print(\"Transaction columns:\", user_txns.columns)\n",
    "purchase_col = [col for col in user_txns.columns if \"Purchase Value\" in col][0]\n"
   ]
  },
  {
   "cell_type": "code",
   "execution_count": 35,
   "id": "03e4de6a-474c-4bf6-b021-d4a46015613b",
   "metadata": {},
   "outputs": [
    {
     "name": "stdout",
     "output_type": "stream",
     "text": [
      "   Order Purchase Value\n",
      "0                  5.40\n",
      "1                 39.50\n",
      "2                 73.73\n",
      "3                 16.23\n",
      "4                 10.96\n"
     ]
    }
   ],
   "source": [
    "# STEP 2: Clean 'Order Purchase Value' column\n",
    "user_txns['Order Purchase Value'] = (\n",
    "    user_txns[' Order Purchase Value ']\n",
    "    .astype(str)\n",
    "    .str.replace('$', '', regex=False)\n",
    "    .str.replace(',', '', regex=False)\n",
    "    .str.strip()\n",
    "    .astype(float)\n",
    ")\n",
    "\n",
    "# Drop the original column with spaces\n",
    "user_txns.drop(columns=[' Order Purchase Value '], inplace=True)\n",
    "\n",
    "# ✅ Confirm it worked\n",
    "print(user_txns[['Order Purchase Value']].head())"
   ]
  },
  {
   "cell_type": "code",
   "execution_count": 39,
   "id": "9c7b2d4b-eaf8-494d-8856-f7e5a8016931",
   "metadata": {},
   "outputs": [],
   "source": [
    "# STEP 3: Convert date columns with explicit format\n",
    "user_txns['order Date'] = pd.to_datetime(user_txns['order Date'], format=\"%d-%m-%y\")\n",
    "user_demo['Birth Date'] = pd.to_datetime(user_demo['Birth Date'], format=\"%d-%m-%y\")\n",
    "user_demo['Signup Date'] = pd.to_datetime(user_demo['Signup Date'], format=\"%d-%m-%y\")"
   ]
  },
  {
   "cell_type": "code",
   "execution_count": 41,
   "id": "431d571d-aea5-478c-bf12-5c2917afc191",
   "metadata": {},
   "outputs": [],
   "source": [
    "# STEP 4: Calculate Age\n",
    "today = pd.Timestamp.today()\n",
    "user_demo['Age'] = (today - user_demo['Birth Date']).dt.days // 365"
   ]
  },
  {
   "cell_type": "code",
   "execution_count": 43,
   "id": "37720069-1236-452b-a9f6-f76011c361e7",
   "metadata": {},
   "outputs": [],
   "source": [
    "# STEP 5: Merge on 'User ID'\n",
    "df = pd.merge(user_txns, user_demo, on='User ID', how='inner')\n"
   ]
  },
  {
   "cell_type": "code",
   "execution_count": 45,
   "id": "2442ac26-35d2-4d47-9fd3-6507741f8455",
   "metadata": {},
   "outputs": [],
   "source": [
    "# STEP 6: Filter users with missing Gender or Age\n",
    "df = df.dropna(subset=['Gender', 'Age'])"
   ]
  },
  {
   "cell_type": "code",
   "execution_count": 47,
   "id": "67b929be-1728-4b73-9933-bf5233e70a04",
   "metadata": {},
   "outputs": [
    {
     "name": "stdout",
     "output_type": "stream",
     "text": [
      "✅ Final cleaned & merged dataset shape: (8171, 9)\n"
     ]
    },
    {
     "data": {
      "text/html": [
       "<div>\n",
       "<style scoped>\n",
       "    .dataframe tbody tr th:only-of-type {\n",
       "        vertical-align: middle;\n",
       "    }\n",
       "\n",
       "    .dataframe tbody tr th {\n",
       "        vertical-align: top;\n",
       "    }\n",
       "\n",
       "    .dataframe thead th {\n",
       "        text-align: right;\n",
       "    }\n",
       "</style>\n",
       "<table border=\"1\" class=\"dataframe\">\n",
       "  <thead>\n",
       "    <tr style=\"text-align: right;\">\n",
       "      <th></th>\n",
       "      <th>User ID</th>\n",
       "      <th>Order ID</th>\n",
       "      <th>order Date</th>\n",
       "      <th>Order Purchase Value</th>\n",
       "      <th>Birth Date</th>\n",
       "      <th>Gender</th>\n",
       "      <th>Signup Date</th>\n",
       "      <th>State</th>\n",
       "      <th>Age</th>\n",
       "    </tr>\n",
       "  </thead>\n",
       "  <tbody>\n",
       "    <tr>\n",
       "      <th>0</th>\n",
       "      <td>7</td>\n",
       "      <td>199785</td>\n",
       "      <td>2024-12-28</td>\n",
       "      <td>5.40</td>\n",
       "      <td>2039-12-14</td>\n",
       "      <td>Male</td>\n",
       "      <td>2018-12-14</td>\n",
       "      <td>Baghdad</td>\n",
       "      <td>-15.0</td>\n",
       "    </tr>\n",
       "    <tr>\n",
       "      <th>1</th>\n",
       "      <td>10</td>\n",
       "      <td>133690</td>\n",
       "      <td>2024-02-19</td>\n",
       "      <td>39.50</td>\n",
       "      <td>1992-09-09</td>\n",
       "      <td>Female</td>\n",
       "      <td>2018-12-17</td>\n",
       "      <td>Baghdad</td>\n",
       "      <td>32.0</td>\n",
       "    </tr>\n",
       "    <tr>\n",
       "      <th>2</th>\n",
       "      <td>25</td>\n",
       "      <td>159020</td>\n",
       "      <td>2024-07-23</td>\n",
       "      <td>73.73</td>\n",
       "      <td>1995-01-12</td>\n",
       "      <td>Male</td>\n",
       "      <td>2018-12-27</td>\n",
       "      <td>Baghdad</td>\n",
       "      <td>30.0</td>\n",
       "    </tr>\n",
       "    <tr>\n",
       "      <th>3</th>\n",
       "      <td>25</td>\n",
       "      <td>161151</td>\n",
       "      <td>2024-08-02</td>\n",
       "      <td>16.23</td>\n",
       "      <td>1995-01-12</td>\n",
       "      <td>Male</td>\n",
       "      <td>2018-12-27</td>\n",
       "      <td>Baghdad</td>\n",
       "      <td>30.0</td>\n",
       "    </tr>\n",
       "    <tr>\n",
       "      <th>4</th>\n",
       "      <td>52</td>\n",
       "      <td>183857</td>\n",
       "      <td>2024-11-13</td>\n",
       "      <td>10.96</td>\n",
       "      <td>1989-01-11</td>\n",
       "      <td>Female</td>\n",
       "      <td>2019-01-08</td>\n",
       "      <td>Baghdad</td>\n",
       "      <td>36.0</td>\n",
       "    </tr>\n",
       "  </tbody>\n",
       "</table>\n",
       "</div>"
      ],
      "text/plain": [
       "   User ID  Order ID order Date  Order Purchase Value Birth Date  Gender  \\\n",
       "0        7    199785 2024-12-28                  5.40 2039-12-14    Male   \n",
       "1       10    133690 2024-02-19                 39.50 1992-09-09  Female   \n",
       "2       25    159020 2024-07-23                 73.73 1995-01-12    Male   \n",
       "3       25    161151 2024-08-02                 16.23 1995-01-12    Male   \n",
       "4       52    183857 2024-11-13                 10.96 1989-01-11  Female   \n",
       "\n",
       "  Signup Date    State   Age  \n",
       "0  2018-12-14  Baghdad -15.0  \n",
       "1  2018-12-17  Baghdad  32.0  \n",
       "2  2018-12-27  Baghdad  30.0  \n",
       "3  2018-12-27  Baghdad  30.0  \n",
       "4  2019-01-08  Baghdad  36.0  "
      ]
     },
     "metadata": {},
     "output_type": "display_data"
    }
   ],
   "source": [
    "# STEP 7: Final preview\n",
    "print(\"✅ Final cleaned & merged dataset shape:\", df.shape)\n",
    "display(df.head())"
   ]
  },
  {
   "cell_type": "code",
   "execution_count": 49,
   "id": "9bc3084a-e4b5-4ee2-b82f-648a8ef3130a",
   "metadata": {},
   "outputs": [
    {
     "data": {
      "text/html": [
       "<div>\n",
       "<style scoped>\n",
       "    .dataframe tbody tr th:only-of-type {\n",
       "        vertical-align: middle;\n",
       "    }\n",
       "\n",
       "    .dataframe tbody tr th {\n",
       "        vertical-align: top;\n",
       "    }\n",
       "\n",
       "    .dataframe thead th {\n",
       "        text-align: right;\n",
       "    }\n",
       "</style>\n",
       "<table border=\"1\" class=\"dataframe\">\n",
       "  <thead>\n",
       "    <tr style=\"text-align: right;\">\n",
       "      <th></th>\n",
       "      <th>User ID</th>\n",
       "      <th>Total_Orders</th>\n",
       "      <th>Total_Spend</th>\n",
       "      <th>Avg_Order_Value</th>\n",
       "      <th>First_Order_Date</th>\n",
       "      <th>Last_Order_Date</th>\n",
       "      <th>Active_Days</th>\n",
       "      <th>Gender_first</th>\n",
       "      <th>Age_first</th>\n",
       "      <th>State_first</th>\n",
       "      <th>Signup Date_first</th>\n",
       "    </tr>\n",
       "  </thead>\n",
       "  <tbody>\n",
       "    <tr>\n",
       "      <th>0</th>\n",
       "      <td>7</td>\n",
       "      <td>1</td>\n",
       "      <td>5.40</td>\n",
       "      <td>5.40</td>\n",
       "      <td>2024-12-28</td>\n",
       "      <td>2024-12-28</td>\n",
       "      <td>1</td>\n",
       "      <td>Male</td>\n",
       "      <td>-15.0</td>\n",
       "      <td>Baghdad</td>\n",
       "      <td>2018-12-14</td>\n",
       "    </tr>\n",
       "    <tr>\n",
       "      <th>1</th>\n",
       "      <td>10</td>\n",
       "      <td>1</td>\n",
       "      <td>39.50</td>\n",
       "      <td>39.50</td>\n",
       "      <td>2024-02-19</td>\n",
       "      <td>2024-02-19</td>\n",
       "      <td>1</td>\n",
       "      <td>Female</td>\n",
       "      <td>32.0</td>\n",
       "      <td>Baghdad</td>\n",
       "      <td>2018-12-17</td>\n",
       "    </tr>\n",
       "    <tr>\n",
       "      <th>2</th>\n",
       "      <td>25</td>\n",
       "      <td>2</td>\n",
       "      <td>89.96</td>\n",
       "      <td>44.98</td>\n",
       "      <td>2024-07-23</td>\n",
       "      <td>2024-08-02</td>\n",
       "      <td>2</td>\n",
       "      <td>Male</td>\n",
       "      <td>30.0</td>\n",
       "      <td>Baghdad</td>\n",
       "      <td>2018-12-27</td>\n",
       "    </tr>\n",
       "    <tr>\n",
       "      <th>3</th>\n",
       "      <td>52</td>\n",
       "      <td>1</td>\n",
       "      <td>10.96</td>\n",
       "      <td>10.96</td>\n",
       "      <td>2024-11-13</td>\n",
       "      <td>2024-11-13</td>\n",
       "      <td>1</td>\n",
       "      <td>Female</td>\n",
       "      <td>36.0</td>\n",
       "      <td>Baghdad</td>\n",
       "      <td>2019-01-08</td>\n",
       "    </tr>\n",
       "    <tr>\n",
       "      <th>4</th>\n",
       "      <td>108</td>\n",
       "      <td>1</td>\n",
       "      <td>94.60</td>\n",
       "      <td>94.60</td>\n",
       "      <td>2024-08-25</td>\n",
       "      <td>2024-08-25</td>\n",
       "      <td>1</td>\n",
       "      <td>Male</td>\n",
       "      <td>31.0</td>\n",
       "      <td>Baghdad</td>\n",
       "      <td>2019-02-09</td>\n",
       "    </tr>\n",
       "  </tbody>\n",
       "</table>\n",
       "</div>"
      ],
      "text/plain": [
       "   User ID  Total_Orders  Total_Spend  Avg_Order_Value First_Order_Date  \\\n",
       "0        7             1         5.40             5.40       2024-12-28   \n",
       "1       10             1        39.50            39.50       2024-02-19   \n",
       "2       25             2        89.96            44.98       2024-07-23   \n",
       "3       52             1        10.96            10.96       2024-11-13   \n",
       "4      108             1        94.60            94.60       2024-08-25   \n",
       "\n",
       "  Last_Order_Date  Active_Days Gender_first  Age_first State_first  \\\n",
       "0      2024-12-28            1         Male      -15.0     Baghdad   \n",
       "1      2024-02-19            1       Female       32.0     Baghdad   \n",
       "2      2024-08-02            2         Male       30.0     Baghdad   \n",
       "3      2024-11-13            1       Female       36.0     Baghdad   \n",
       "4      2024-08-25            1         Male       31.0     Baghdad   \n",
       "\n",
       "  Signup Date_first  \n",
       "0        2018-12-14  \n",
       "1        2018-12-17  \n",
       "2        2018-12-27  \n",
       "3        2019-01-08  \n",
       "4        2019-02-09  "
      ]
     },
     "metadata": {},
     "output_type": "display_data"
    }
   ],
   "source": [
    "user_summary = df.groupby('User ID').agg({\n",
    "    'Order ID': 'nunique',                          # Total orders\n",
    "    'Order Purchase Value': ['sum', 'mean'],        # Total spend, Avg order\n",
    "    'order Date': ['min', 'max', 'nunique'],        # First, last order, frequency\n",
    "    'Gender': 'first',\n",
    "    'Age': 'first',\n",
    "    'State': 'first',\n",
    "    'Signup Date': 'first'\n",
    "})\n",
    "\n",
    "# Flatten column names\n",
    "user_summary.columns = ['_'.join(col).strip() for col in user_summary.columns.values]\n",
    "user_summary = user_summary.reset_index()\n",
    "\n",
    "# Rename for clarity\n",
    "user_summary.rename(columns={\n",
    "    'Order ID_nunique': 'Total_Orders',\n",
    "    'Order Purchase Value_sum': 'Total_Spend',\n",
    "    'Order Purchase Value_mean': 'Avg_Order_Value',\n",
    "    'order Date_min': 'First_Order_Date',\n",
    "    'order Date_max': 'Last_Order_Date',\n",
    "    'order Date_nunique': 'Active_Days'\n",
    "}, inplace=True)\n",
    "\n",
    "# Preview\n",
    "display(user_summary.head())"
   ]
  },
  {
   "cell_type": "code",
   "execution_count": 55,
   "id": "39075fbd-ce85-467a-9e14-cf4a0982af06",
   "metadata": {},
   "outputs": [],
   "source": [
    "# Recency in days (from today)\n",
    "user_summary['Recency_Days'] = (pd.Timestamp.today() - user_summary['Last_Order_Date']).dt.days\n",
    "\n",
    "# Tenure\n",
    "user_summary['Tenure_Days'] = (user_summary['Last_Order_Date'] - user_summary['First_Order_Date']).dt.days\n",
    "\n",
    "# Orders per active day\n",
    "user_summary['Orders_Per_Day'] = user_summary['Total_Orders'] / (user_summary['Tenure_Days'] + 1)\n"
   ]
  },
  {
   "cell_type": "code",
   "execution_count": 57,
   "id": "bee687fa-aa15-4e4a-a310-805311c747fe",
   "metadata": {},
   "outputs": [],
   "source": [
    "from sklearn.preprocessing import StandardScaler\n",
    "from sklearn.cluster import KMeans\n",
    "\n",
    "features = ['Total_Spend', 'Avg_Order_Value', 'Recency_Days', 'Orders_Per_Day']\n",
    "X = user_summary[features]\n",
    "X_scaled = StandardScaler().fit_transform(X)\n",
    "\n",
    "kmeans = KMeans(n_clusters=4, random_state=42)\n",
    "user_summary['Segment'] = kmeans.fit_predict(X_scaled)"
   ]
  },
  {
   "cell_type": "code",
   "execution_count": 65,
   "id": "63ffbecc-c18e-4637-ba87-70ccee490c78",
   "metadata": {},
   "outputs": [
    {
     "data": {
      "image/png": "[encoded data removed]",
      "text/plain": [
       "<Figure size 640x480 with 1 Axes>"
      ]
     },
     "metadata": {},
     "output_type": "display_data"
    }
   ],
   "source": [
    "import seaborn as sns\n",
    "import matplotlib.pyplot as plt\n",
    "\n",
    "sns.boxplot(data=user_summary, x='Segment', y='Total_Spend')\n",
    "plt.title(\"Spending per Segment\")\n",
    "\n",
    "plt.show()\n"
   ]
  },
  {
   "cell_type": "code",
   "execution_count": 67,
   "id": "b80e38e8-e279-4669-9642-a5a87d98deb1",
   "metadata": {},
   "outputs": [],
   "source": [
    "segment_map = {\n",
    "    2: 'High Spenders',\n",
    "    0: 'Moderate',\n",
    "    1: 'Low Spenders',\n",
    "    3: 'Occasional'\n",
    "}\n",
    "user_summary['Segment_Label'] = user_summary['Segment'].map(segment_map)"
   ]
  },
  {
   "cell_type": "code",
   "execution_count": 69,
   "id": "2e1d49b8-cc21-4693-bd45-15aff7caeb5f",
   "metadata": {},
   "outputs": [
    {
     "data": {
      "text/plain": [
       "<Axes: title={'center': 'Users per Segment'}, xlabel='Segment_Label'>"
      ]
     },
     "execution_count": 69,
     "metadata": {},
     "output_type": "execute_result"
    },
    {
     "data": {
      "image/png": "[encoded data removed]",
      "text/plain": [
       "<Figure size 640x480 with 1 Axes>"
      ]
     },
     "metadata": {},
     "output_type": "display_data"
    }
   ],
   "source": [
    "user_summary['Segment_Label'].value_counts().plot(kind='bar', title='Users per Segment')"
   ]
  },
  {
   "cell_type": "code",
   "execution_count": 71,
   "id": "32204be8-96cf-49ba-9596-888a7fc9a9ea",
   "metadata": {},
   "outputs": [
    {
     "data": {
      "text/plain": [
       "<Axes: xlabel='Segment', ylabel='Recency_Days'>"
      ]
     },
     "execution_count": 71,
     "metadata": {},
     "output_type": "execute_result"
    },
    {
     "data": {
      "image/png": "[encoded data removed]",
      "text/plain": [
       "<Figure size 640x480 with 1 Axes>"
      ]
     },
     "metadata": {},
     "output_type": "display_data"
    }
   ],
   "source": [
    "sns.boxplot(data=user_summary, x='Segment', y='Recency_Days')\n"
   ]
  },
  {
   "cell_type": "code",
   "execution_count": 73,
   "id": "3470b7cb-f522-4683-9b2c-bde665cfac84",
   "metadata": {},
   "outputs": [],
   "source": [
    "user_summary.to_csv(\"user_summary_segmented.csv\", index=False)"
   ]
  },
  {
   "cell_type": "code",
   "execution_count": 75,
   "id": "7a5a2ba6-c884-42c6-b3f4-df6807cae74f",
   "metadata": {},
   "outputs": [
    {
     "data": {
      "text/html": [
       "<div>\n",
       "<style scoped>\n",
       "    .dataframe tbody tr th:only-of-type {\n",
       "        vertical-align: middle;\n",
       "    }\n",
       "\n",
       "    .dataframe tbody tr th {\n",
       "        vertical-align: top;\n",
       "    }\n",
       "\n",
       "    .dataframe thead tr th {\n",
       "        text-align: left;\n",
       "    }\n",
       "\n",
       "    .dataframe thead tr:last-of-type th {\n",
       "        text-align: right;\n",
       "    }\n",
       "</style>\n",
       "<table border=\"1\" class=\"dataframe\">\n",
       "  <thead>\n",
       "    <tr>\n",
       "      <th></th>\n",
       "      <th colspan=\"2\" halign=\"left\">Total_Spend</th>\n",
       "      <th>Avg_Order_Value</th>\n",
       "      <th>Recency_Days</th>\n",
       "      <th>Orders_Per_Day</th>\n",
       "      <th>Age_first</th>\n",
       "      <th>Total_Orders</th>\n",
       "    </tr>\n",
       "    <tr>\n",
       "      <th></th>\n",
       "      <th>mean</th>\n",
       "      <th>median</th>\n",
       "      <th>mean</th>\n",
       "      <th>mean</th>\n",
       "      <th>mean</th>\n",
       "      <th>mean</th>\n",
       "      <th>mean</th>\n",
       "    </tr>\n",
       "    <tr>\n",
       "      <th>Segment</th>\n",
       "      <th></th>\n",
       "      <th></th>\n",
       "      <th></th>\n",
       "      <th></th>\n",
       "      <th></th>\n",
       "      <th></th>\n",
       "      <th></th>\n",
       "    </tr>\n",
       "  </thead>\n",
       "  <tbody>\n",
       "    <tr>\n",
       "      <th>0</th>\n",
       "      <td>438.82</td>\n",
       "      <td>274.52</td>\n",
       "      <td>138.05</td>\n",
       "      <td>188.86</td>\n",
       "      <td>0.10</td>\n",
       "      <td>27.76</td>\n",
       "      <td>3.29</td>\n",
       "    </tr>\n",
       "    <tr>\n",
       "      <th>1</th>\n",
       "      <td>137.83</td>\n",
       "      <td>75.35</td>\n",
       "      <td>122.34</td>\n",
       "      <td>168.30</td>\n",
       "      <td>1.07</td>\n",
       "      <td>27.35</td>\n",
       "      <td>1.12</td>\n",
       "    </tr>\n",
       "    <tr>\n",
       "      <th>2</th>\n",
       "      <td>2301.98</td>\n",
       "      <td>1591.81</td>\n",
       "      <td>1294.91</td>\n",
       "      <td>220.49</td>\n",
       "      <td>0.83</td>\n",
       "      <td>26.16</td>\n",
       "      <td>2.60</td>\n",
       "    </tr>\n",
       "    <tr>\n",
       "      <th>3</th>\n",
       "      <td>145.64</td>\n",
       "      <td>76.62</td>\n",
       "      <td>128.21</td>\n",
       "      <td>361.91</td>\n",
       "      <td>1.03</td>\n",
       "      <td>27.48</td>\n",
       "      <td>1.15</td>\n",
       "    </tr>\n",
       "  </tbody>\n",
       "</table>\n",
       "</div>"
      ],
      "text/plain": [
       "        Total_Spend          Avg_Order_Value Recency_Days Orders_Per_Day  \\\n",
       "               mean   median            mean         mean           mean   \n",
       "Segment                                                                    \n",
       "0            438.82   274.52          138.05       188.86           0.10   \n",
       "1            137.83    75.35          122.34       168.30           1.07   \n",
       "2           2301.98  1591.81         1294.91       220.49           0.83   \n",
       "3            145.64    76.62          128.21       361.91           1.03   \n",
       "\n",
       "        Age_first Total_Orders  \n",
       "             mean         mean  \n",
       "Segment                         \n",
       "0           27.76         3.29  \n",
       "1           27.35         1.12  \n",
       "2           26.16         2.60  \n",
       "3           27.48         1.15  "
      ]
     },
     "metadata": {},
     "output_type": "display_data"
    }
   ],
   "source": [
    "segment_profile = user_summary.groupby('Segment').agg({\n",
    "    'Total_Spend': ['mean', 'median'],\n",
    "    'Avg_Order_Value': 'mean',\n",
    "    'Recency_Days': 'mean',\n",
    "    'Orders_Per_Day': 'mean',\n",
    "    'Age_first': 'mean',\n",
    "    'Total_Orders': 'mean'\n",
    "}).round(2)\n",
    "\n",
    "display(segment_profile)"
   ]
  },
  {
   "cell_type": "code",
   "execution_count": 77,
   "id": "5ed2f812-fdab-4571-bd71-42970bca8ce2",
   "metadata": {},
   "outputs": [
    {
     "data": {
      "image/png": "[encoded data removed]",
      "text/plain": [
       "<Figure size 640x480 with 1 Axes>"
      ]
     },
     "metadata": {},
     "output_type": "display_data"
    },
    {
     "data": {
      "image/png": "[encoded data removed]",
      "text/plain": [
       "<Figure size 640x480 with 1 Axes>"
      ]
     },
     "metadata": {},
     "output_type": "display_data"
    }
   ],
   "source": [
    "# Boxplot of Recency\n",
    "sns.boxplot(data=user_summary, x='Segment', y='Recency_Days')\n",
    "plt.title(\"Recency by Segment\")\n",
    "plt.show()\n",
    "\n",
    "# Count of users per segment\n",
    "sns.countplot(data=user_summary, x='Segment')\n",
    "plt.title(\"Users per Segment\")\n",
    "plt.show()\n"
   ]
  },
  {
   "cell_type": "code",
   "execution_count": 83,
   "id": "47fe099c-80a1-4dec-9ad4-84675a138861",
   "metadata": {},
   "outputs": [],
   "source": [
    "user_summary['R'] = pd.cut(user_summary['Recency_Days'], bins=5, labels=[5, 4, 3, 2, 1])\n",
    "user_summary['F'] = pd.cut(user_summary['Total_Orders'], bins=5, labels=[1, 2, 3, 4, 5])\n",
    "user_summary['M'] = pd.cut(user_summary['Total_Spend'], bins=5, labels=[1, 2, 3, 4, 5])\n"
   ]
  },
  {
   "cell_type": "code",
   "execution_count": 85,
   "id": "5ef13d20-3aaa-4c9c-afd7-9a0ae91083ec",
   "metadata": {},
   "outputs": [],
   "source": [
    "user_summary.to_csv(\"Segmented_Customers.csv\", index=False)"
   ]
  },
  {
   "cell_type": "code",
   "execution_count": null,
   "id": "27706552-7d88-4247-89e4-c484eb9e5542",
   "metadata": {},
   "outputs": [],
   "source": []
  }
 ],
 "metadata": {
  "kernelspec": {
   "display_name": "Python 3 (ipykernel)",
   "language": "python",
   "name": "python3"
  },
  "language_info": {
   "codemirror_mode": {
    "name": "ipython",
    "version": 3
   },
   "file_extension": ".py",
   "mimetype": "text/x-python",
   "name": "python",
   "nbconvert_exporter": "python",
   "pygments_lexer": "ipython3",
   "version": "3.12.7"
  }
 },
 "nbformat": 4,
 "nbformat_minor": 5
}
